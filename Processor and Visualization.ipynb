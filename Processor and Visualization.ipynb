{
 "cells": [
  {
   "cell_type": "markdown",
   "metadata": {
    "id": "fIv6B6n9HACM"
   },
   "source": [
    "# Preprocess the collected data\n",
    "Author: ZHANG Yun\n",
    "\n",
    "In this notebook, we preprocess the collected text data by tokenization, removing stopwords, stemming and lemmaitization."
   ]
  },
  {
   "cell_type": "markdown",
   "metadata": {
    "id": "T6ru23XaHACM"
   },
   "source": [
    "## Load Packages"
   ]
  },
  {
   "cell_type": "code",
   "execution_count": 59,
   "metadata": {},
   "outputs": [
    {
     "name": "stdout",
     "output_type": "stream",
     "text": [
      "Looking in indexes: https://pypi.tuna.tsinghua.edu.cn/simple\n",
      "Collecting vaderSentiment\n",
      "  Downloading https://pypi.tuna.tsinghua.edu.cn/packages/76/fc/310e16254683c1ed35eeb97386986d6c00bc29df17ce280aed64d55537e9/vaderSentiment-3.3.2-py2.py3-none-any.whl (125 kB)\n",
      "Requirement already satisfied: requests in c:\\users\\claude\\anaconda3\\lib\\site-packages (from vaderSentiment) (2.24.0)\n",
      "Requirement already satisfied: idna<3,>=2.5 in c:\\users\\claude\\anaconda3\\lib\\site-packages (from requests->vaderSentiment) (2.10)\n",
      "Requirement already satisfied: chardet<4,>=3.0.2 in c:\\users\\claude\\anaconda3\\lib\\site-packages (from requests->vaderSentiment) (3.0.4)\n",
      "Requirement already satisfied: urllib3!=1.25.0,!=1.25.1,<1.26,>=1.21.1 in c:\\users\\claude\\anaconda3\\lib\\site-packages (from requests->vaderSentiment) (1.25.9)\n",
      "Requirement already satisfied: certifi>=2017.4.17 in c:\\users\\claude\\anaconda3\\lib\\site-packages (from requests->vaderSentiment) (2020.6.20)\n",
      "Installing collected packages: vaderSentiment\n",
      "Successfully installed vaderSentiment-3.3.2\n"
     ]
    }
   ],
   "source": [
    "!pip install vaderSentiment"
   ]
  },
  {
   "cell_type": "code",
   "execution_count": 4,
   "metadata": {
    "colab": {
     "base_uri": "https://localhost:8080/"
    },
    "id": "fShG13wVHACM",
    "outputId": "c2f33b20-aec2-4bc1-ac7c-e19f5308f098"
   },
   "outputs": [
    {
     "name": "stderr",
     "output_type": "stream",
     "text": [
      "[nltk_data] Downloading package punkt to\n",
      "[nltk_data]     C:\\Users\\Claude\\AppData\\Roaming\\nltk_data...\n",
      "[nltk_data]   Package punkt is already up-to-date!\n",
      "[nltk_data] Downloading package stopwords to\n",
      "[nltk_data]     C:\\Users\\Claude\\AppData\\Roaming\\nltk_data...\n",
      "[nltk_data]   Package stopwords is already up-to-date!\n",
      "[nltk_data] Downloading package wordnet to\n",
      "[nltk_data]     C:\\Users\\Claude\\AppData\\Roaming\\nltk_data...\n",
      "[nltk_data]   Package wordnet is already up-to-date!\n"
     ]
    },
    {
     "data": {
      "text/plain": [
       "True"
      ]
     },
     "execution_count": 4,
     "metadata": {},
     "output_type": "execute_result"
    }
   ],
   "source": [
    "%matplotlib inline\n",
    "import pandas as pd\n",
    "import numpy as np\n",
    "import regex as re\n",
    "import nltk\n",
    "from nltk import sent_tokenize\n",
    "from nltk import word_tokenize\n",
    "from nltk.corpus import stopwords\n",
    "from nltk import SnowballStemmer\n",
    "from nltk import WordNetLemmatizer\n",
    "\n",
    "from textblob import TextBlob\n",
    "from vaderSentiment.vaderSentiment import SentimentIntensityAnalyzer\n",
    "\n",
    "import datetime\n",
    "import matplotlib.pyplot as plt\n",
    "import matplotlib.dates as mdates\n",
    "\n",
    "nltk.download('punkt')\n",
    "nltk.download('stopwords')\n",
    "nltk.download('wordnet')"
   ]
  },
  {
   "cell_type": "markdown",
   "metadata": {},
   "source": [
    "## News"
   ]
  },
  {
   "cell_type": "markdown",
   "metadata": {
    "id": "TysJ0BPAHACN"
   },
   "source": [
    "### Load the news data"
   ]
  },
  {
   "cell_type": "code",
   "execution_count": 166,
   "metadata": {
    "colab": {
     "base_uri": "https://localhost:8080/",
     "height": 391
    },
    "id": "d7rj3JXXHACN",
    "outputId": "bc67708f-5a7b-4aba-abd0-b2222bff37c2"
   },
   "outputs": [],
   "source": [
    "header_list = [\"id\", \"from_url\", \"title\", \"url\", \"detail\", \"content\"]\n",
    "df = pd.read_csv(\"data/investing_news.csv\", names=header_list, skiprows=1).dropna()"
   ]
  },
  {
   "cell_type": "code",
   "execution_count": 167,
   "metadata": {
    "colab": {
     "base_uri": "https://localhost:8080/",
     "height": 434
    },
    "id": "cOO_I_GDHACN",
    "outputId": "ab8ae0cf-0625-4989-a910-69286f731c7e"
   },
   "outputs": [
    {
     "name": "stdout",
     "output_type": "stream",
     "text": [
      "Num of rows: 495\n",
      "Column names: ['id', 'from_url', 'title', 'url', 'detail', 'content']\n"
     ]
    },
    {
     "data": {
      "text/html": [
       "<div>\n",
       "<style scoped>\n",
       "    .dataframe tbody tr th:only-of-type {\n",
       "        vertical-align: middle;\n",
       "    }\n",
       "\n",
       "    .dataframe tbody tr th {\n",
       "        vertical-align: top;\n",
       "    }\n",
       "\n",
       "    .dataframe thead th {\n",
       "        text-align: right;\n",
       "    }\n",
       "</style>\n",
       "<table border=\"1\" class=\"dataframe\">\n",
       "  <thead>\n",
       "    <tr style=\"text-align: right;\">\n",
       "      <th></th>\n",
       "      <th>id</th>\n",
       "      <th>from_url</th>\n",
       "      <th>title</th>\n",
       "      <th>url</th>\n",
       "      <th>detail</th>\n",
       "      <th>content</th>\n",
       "    </tr>\n",
       "  </thead>\n",
       "  <tbody>\n",
       "    <tr>\n",
       "      <th>0</th>\n",
       "      <td>1606633081-4947</td>\n",
       "      <td>https://www.investing.com/commodities/us-wheat...</td>\n",
       "      <td>Grain futures - weekly outlook: June 1 - 5</td>\n",
       "      <td>https://www.investing.com/news/commodities-new...</td>\n",
       "      <td>CommoditiesMay 31, 2015 09:10AM ET</td>\n",
       "      <td>&lt;div id=\"imgCarousel\" class=\"imgCarousel\" styl...</td>\n",
       "    </tr>\n",
       "    <tr>\n",
       "      <th>1</th>\n",
       "      <td>1606633990-4994</td>\n",
       "      <td>https://www.investing.com/commodities/us-soybe...</td>\n",
       "      <td>The Corn And Ethanol Report: 09/23/19</td>\n",
       "      <td>https://www.investing.com/analysis/the-corn-an...</td>\n",
       "      <td>By Dan FlynnCommoditiesSep 23, 2019 10:46AM ET</td>\n",
       "      <td>&lt;p&gt;&lt;/p&gt;&lt;h2&gt;&lt;strong&gt;Busy News More On First Day...</td>\n",
       "    </tr>\n",
       "    <tr>\n",
       "      <th>2</th>\n",
       "      <td>1606632716-4901</td>\n",
       "      <td>https://www.investing.com/commodities/us-wheat...</td>\n",
       "      <td>U.S. soybean futures fall to 5-week low on sup...</td>\n",
       "      <td>https://www.investing.com/news/commodities-new...</td>\n",
       "      <td>CommoditiesMar 16, 2015 07:50AM ET</td>\n",
       "      <td>&lt;div id=\"imgCarousel\" class=\"imgCarousel\" styl...</td>\n",
       "    </tr>\n",
       "  </tbody>\n",
       "</table>\n",
       "</div>"
      ],
      "text/plain": [
       "                id                                           from_url  \\\n",
       "0  1606633081-4947  https://www.investing.com/commodities/us-wheat...   \n",
       "1  1606633990-4994  https://www.investing.com/commodities/us-soybe...   \n",
       "2  1606632716-4901  https://www.investing.com/commodities/us-wheat...   \n",
       "\n",
       "                                               title  \\\n",
       "0         Grain futures - weekly outlook: June 1 - 5   \n",
       "1              The Corn And Ethanol Report: 09/23/19   \n",
       "2  U.S. soybean futures fall to 5-week low on sup...   \n",
       "\n",
       "                                                 url  \\\n",
       "0  https://www.investing.com/news/commodities-new...   \n",
       "1  https://www.investing.com/analysis/the-corn-an...   \n",
       "2  https://www.investing.com/news/commodities-new...   \n",
       "\n",
       "                                           detail  \\\n",
       "0              CommoditiesMay 31, 2015 09:10AM ET   \n",
       "1  By Dan FlynnCommoditiesSep 23, 2019 10:46AM ET   \n",
       "2              CommoditiesMar 16, 2015 07:50AM ET   \n",
       "\n",
       "                                             content  \n",
       "0  <div id=\"imgCarousel\" class=\"imgCarousel\" styl...  \n",
       "1  <p></p><h2><strong>Busy News More On First Day...  \n",
       "2  <div id=\"imgCarousel\" class=\"imgCarousel\" styl...  "
      ]
     },
     "execution_count": 167,
     "metadata": {},
     "output_type": "execute_result"
    }
   ],
   "source": [
    "print(f\"Num of rows: {len(df)}\\nColumn names: {list(df.columns)}\")\n",
    "df.head(3)"
   ]
  },
  {
   "cell_type": "code",
   "execution_count": 168,
   "metadata": {
    "id": "IoxAgbYHHACO"
   },
   "outputs": [],
   "source": [
    "df.content = df.content.apply(lambda x: re.sub('<[^>]*>', '', x).strip())\n",
    "df[\"type\"] = df.from_url.apply(lambda x: ' '.join(x.split('/')[-2].split('-')[:-1]))\n",
    "\n",
    "def parse_detail(x):\n",
    "    pattern = r\"(Jan|Feb|Mar|Apr|May|Jun|Jul|Aug|Sep|Oct|Nov|Dec)(\\s\\d+,\\s\\d+\\s\\d+:\\d+)(AM|PM)\"\n",
    "    datetime_str = ''.join(re.findall(pattern, x)[0])\n",
    "    return datetime.datetime.strptime(datetime_str, \"%b %d, %Y %H:%M%p\")\n",
    "    \n",
    "df[\"datetime\"] = df.detail.apply(lambda x: parse_detail(x))\n",
    "\n",
    "df[\"date\"] = pd.to_datetime(df.datetime)\n",
    "df[\"date\"] = df.datetime.apply(lambda x: x.date())\n",
    "df[\"date\"] = pd.to_datetime(df.date)"
   ]
  },
  {
   "cell_type": "code",
   "execution_count": 169,
   "metadata": {
    "colab": {
     "base_uri": "https://localhost:8080/"
    },
    "id": "HJdRpUhSHACO",
    "outputId": "d4870cea-3d5a-45a6-da08-5861dc2e2957"
   },
   "outputs": [
    {
     "name": "stdout",
     "output_type": "stream",
     "text": [
      "Pieces of news and analysis for each type of grain commodities: \n",
      "type\n",
      "oats            22\n",
      "rough rice      65\n",
      "us corn         85\n",
      "us soybeans    126\n",
      "us wheat       197\n",
      "dtype: int64\n"
     ]
    }
   ],
   "source": [
    "print(f\"Pieces of news and analysis for each type of grain commodities: \\n{df.groupby('type').size()}\")"
   ]
  },
  {
   "cell_type": "code",
   "execution_count": 170,
   "metadata": {
    "colab": {
     "base_uri": "https://localhost:8080/",
     "height": 266
    },
    "id": "0Sxhp0yeHbdE",
    "outputId": "097898e3-d15c-4ff5-96f4-93482a4178bb"
   },
   "outputs": [
    {
     "data": {
      "text/html": [
       "<div>\n",
       "<style scoped>\n",
       "    .dataframe tbody tr th:only-of-type {\n",
       "        vertical-align: middle;\n",
       "    }\n",
       "\n",
       "    .dataframe tbody tr th {\n",
       "        vertical-align: top;\n",
       "    }\n",
       "\n",
       "    .dataframe thead tr th {\n",
       "        text-align: left;\n",
       "    }\n",
       "\n",
       "    .dataframe thead tr:last-of-type th {\n",
       "        text-align: right;\n",
       "    }\n",
       "</style>\n",
       "<table border=\"1\" class=\"dataframe\">\n",
       "  <thead>\n",
       "    <tr>\n",
       "      <th></th>\n",
       "      <th colspan=\"3\" halign=\"left\">date</th>\n",
       "    </tr>\n",
       "    <tr>\n",
       "      <th></th>\n",
       "      <th>min</th>\n",
       "      <th>max</th>\n",
       "      <th>count</th>\n",
       "    </tr>\n",
       "    <tr>\n",
       "      <th>type</th>\n",
       "      <th></th>\n",
       "      <th></th>\n",
       "      <th></th>\n",
       "    </tr>\n",
       "  </thead>\n",
       "  <tbody>\n",
       "    <tr>\n",
       "      <th>oats</th>\n",
       "      <td>2015-11-27</td>\n",
       "      <td>2019-03-27</td>\n",
       "      <td>21</td>\n",
       "    </tr>\n",
       "    <tr>\n",
       "      <th>rough rice</th>\n",
       "      <td>2011-10-28</td>\n",
       "      <td>2020-07-31</td>\n",
       "      <td>65</td>\n",
       "    </tr>\n",
       "    <tr>\n",
       "      <th>us corn</th>\n",
       "      <td>2017-02-28</td>\n",
       "      <td>2020-11-27</td>\n",
       "      <td>85</td>\n",
       "    </tr>\n",
       "    <tr>\n",
       "      <th>us soybeans</th>\n",
       "      <td>2018-02-21</td>\n",
       "      <td>2020-11-23</td>\n",
       "      <td>126</td>\n",
       "    </tr>\n",
       "    <tr>\n",
       "      <th>us wheat</th>\n",
       "      <td>2015-02-15</td>\n",
       "      <td>2020-11-19</td>\n",
       "      <td>197</td>\n",
       "    </tr>\n",
       "  </tbody>\n",
       "</table>\n",
       "</div>"
      ],
      "text/plain": [
       "                  date                 \n",
       "                   min        max count\n",
       "type                                   \n",
       "oats        2015-11-27 2019-03-27    21\n",
       "rough rice  2011-10-28 2020-07-31    65\n",
       "us corn     2017-02-28 2020-11-27    85\n",
       "us soybeans 2018-02-21 2020-11-23   126\n",
       "us wheat    2015-02-15 2020-11-19   197"
      ]
     },
     "execution_count": 170,
     "metadata": {},
     "output_type": "execute_result"
    }
   ],
   "source": [
    "df = df[df.datetime > datetime.datetime.now().replace(year=2000)]\n",
    "df_grouped = df.groupby('type')\n",
    "df[[\"type\", \"date\"]].groupby('type').agg([\"min\", \"max\", \"count\"])"
   ]
  },
  {
   "cell_type": "markdown",
   "metadata": {
    "id": "tXbKwNRXTtk7"
   },
   "source": [
    "Oldest news of oats is in 1969, which can be regarded as outlier and deleted."
   ]
  },
  {
   "cell_type": "markdown",
   "metadata": {
    "id": "DccTHecdJXKo"
   },
   "source": [
    "### Clean and Tokenize"
   ]
  },
  {
   "cell_type": "code",
   "execution_count": 171,
   "metadata": {
    "id": "z5EZh77HJW4u"
   },
   "outputs": [],
   "source": [
    "def clean_tokenize(text):\n",
    "    pattern = \"(https?:\\/\\/)?([\\da-z\\.-]+)\\.([a-z\\.]{2,6})([\\/\\w\\.-]*)|[/@#:)/\\n_\\-&\\.\\$;%,(]\"\n",
    "    stopwords_en = stopwords.words('english')\n",
    "    snowball = SnowballStemmer('english')\n",
    "    lemmatizer = WordNetLemmatizer()\n",
    "    text = re.sub(pattern, \" \", text.lower()).strip()\n",
    "    text = ''.join([i for i in text if not i.isdigit()])  # Remove digits\n",
    "    words = word_tokenize(text)\n",
    "    clean_words = []\n",
    "    for w in words:\n",
    "        if w not in stopwords_en:\n",
    "            clean_words.append(lemmatizer.lemmatize(snowball.stem(w), pos='a'))\n",
    "    return ' '.join(clean_words)"
   ]
  },
  {
   "cell_type": "code",
   "execution_count": 172,
   "metadata": {
    "id": "UY5XC1cVIdPJ"
   },
   "outputs": [],
   "source": [
    "# Running this cell costs some time\n",
    "df[\"words\"] = df.content.apply(clean_tokenize)"
   ]
  },
  {
   "cell_type": "code",
   "execution_count": 173,
   "metadata": {
    "colab": {
     "base_uri": "https://localhost:8080/",
     "height": 502
    },
    "id": "Oc7vzBbvJxNK",
    "outputId": "a4a709ef-9ba5-47d7-84c6-002e912220a2"
   },
   "outputs": [
    {
     "data": {
      "text/html": [
       "<div>\n",
       "<style scoped>\n",
       "    .dataframe tbody tr th:only-of-type {\n",
       "        vertical-align: middle;\n",
       "    }\n",
       "\n",
       "    .dataframe tbody tr th {\n",
       "        vertical-align: top;\n",
       "    }\n",
       "\n",
       "    .dataframe thead th {\n",
       "        text-align: right;\n",
       "    }\n",
       "</style>\n",
       "<table border=\"1\" class=\"dataframe\">\n",
       "  <thead>\n",
       "    <tr style=\"text-align: right;\">\n",
       "      <th></th>\n",
       "      <th>id</th>\n",
       "      <th>from_url</th>\n",
       "      <th>title</th>\n",
       "      <th>url</th>\n",
       "      <th>detail</th>\n",
       "      <th>content</th>\n",
       "      <th>type</th>\n",
       "      <th>datetime</th>\n",
       "      <th>date</th>\n",
       "      <th>words</th>\n",
       "    </tr>\n",
       "  </thead>\n",
       "  <tbody>\n",
       "    <tr>\n",
       "      <th>0</th>\n",
       "      <td>1606633081-4947</td>\n",
       "      <td>https://www.investing.com/commodities/us-wheat...</td>\n",
       "      <td>Grain futures - weekly outlook: June 1 - 5</td>\n",
       "      <td>https://www.investing.com/news/commodities-new...</td>\n",
       "      <td>CommoditiesMay 31, 2015 09:10AM ET</td>\n",
       "      <td>U.S. wheat futures end the week down 7.2%\\n   ...</td>\n",
       "      <td>us wheat</td>\n",
       "      <td>2015-05-31 09:10:00</td>\n",
       "      <td>2015-05-31</td>\n",
       "      <td>wheat futur end week wheat futur fell sharpli ...</td>\n",
       "    </tr>\n",
       "    <tr>\n",
       "      <th>1</th>\n",
       "      <td>1606633990-4994</td>\n",
       "      <td>https://www.investing.com/commodities/us-soybe...</td>\n",
       "      <td>The Corn And Ethanol Report: 09/23/19</td>\n",
       "      <td>https://www.investing.com/analysis/the-corn-an...</td>\n",
       "      <td>By Dan FlynnCommoditiesSep 23, 2019 10:46AM ET</td>\n",
       "      <td>Busy News More On First Day Of Autumn\\nGood Mo...</td>\n",
       "      <td>us soybeans</td>\n",
       "      <td>2019-09-23 10:46:00</td>\n",
       "      <td>2019-09-23</td>\n",
       "      <td>busi news first day autumn good morn ! export ...</td>\n",
       "    </tr>\n",
       "    <tr>\n",
       "      <th>2</th>\n",
       "      <td>1606632716-4901</td>\n",
       "      <td>https://www.investing.com/commodities/us-wheat...</td>\n",
       "      <td>U.S. soybean futures fall to 5-week low on sup...</td>\n",
       "      <td>https://www.investing.com/news/commodities-new...</td>\n",
       "      <td>CommoditiesMar 16, 2015 07:50AM ET</td>\n",
       "      <td>© Reuters.  ﻿U.S. soybeans slump to 5-week low...</td>\n",
       "      <td>us wheat</td>\n",
       "      <td>2015-03-16 07:50:00</td>\n",
       "      <td>2015-03-16</td>\n",
       "      <td>© reuter ﻿ soybean slump week low soybean futu...</td>\n",
       "    </tr>\n",
       "  </tbody>\n",
       "</table>\n",
       "</div>"
      ],
      "text/plain": [
       "                id                                           from_url  \\\n",
       "0  1606633081-4947  https://www.investing.com/commodities/us-wheat...   \n",
       "1  1606633990-4994  https://www.investing.com/commodities/us-soybe...   \n",
       "2  1606632716-4901  https://www.investing.com/commodities/us-wheat...   \n",
       "\n",
       "                                               title  \\\n",
       "0         Grain futures - weekly outlook: June 1 - 5   \n",
       "1              The Corn And Ethanol Report: 09/23/19   \n",
       "2  U.S. soybean futures fall to 5-week low on sup...   \n",
       "\n",
       "                                                 url  \\\n",
       "0  https://www.investing.com/news/commodities-new...   \n",
       "1  https://www.investing.com/analysis/the-corn-an...   \n",
       "2  https://www.investing.com/news/commodities-new...   \n",
       "\n",
       "                                           detail  \\\n",
       "0              CommoditiesMay 31, 2015 09:10AM ET   \n",
       "1  By Dan FlynnCommoditiesSep 23, 2019 10:46AM ET   \n",
       "2              CommoditiesMar 16, 2015 07:50AM ET   \n",
       "\n",
       "                                             content         type  \\\n",
       "0  U.S. wheat futures end the week down 7.2%\\n   ...     us wheat   \n",
       "1  Busy News More On First Day Of Autumn\\nGood Mo...  us soybeans   \n",
       "2  © Reuters.  ﻿U.S. soybeans slump to 5-week low...     us wheat   \n",
       "\n",
       "             datetime       date  \\\n",
       "0 2015-05-31 09:10:00 2015-05-31   \n",
       "1 2019-09-23 10:46:00 2019-09-23   \n",
       "2 2015-03-16 07:50:00 2015-03-16   \n",
       "\n",
       "                                               words  \n",
       "0  wheat futur end week wheat futur fell sharpli ...  \n",
       "1  busi news first day autumn good morn ! export ...  \n",
       "2  © reuter ﻿ soybean slump week low soybean futu...  "
      ]
     },
     "execution_count": 173,
     "metadata": {},
     "output_type": "execute_result"
    }
   ],
   "source": [
    "df.head(3)"
   ]
  },
  {
   "cell_type": "code",
   "execution_count": 177,
   "metadata": {},
   "outputs": [],
   "source": [
    "# Save the cleaned news data\n",
    "# Read the previously saved cleaned tweet data directly if there are\n",
    "df.to_csv(\"data/investing_news_clean.csv\", index=False)"
   ]
  },
  {
   "cell_type": "code",
   "execution_count": 178,
   "metadata": {
    "tags": [
     "load_processed_data"
    ]
   },
   "outputs": [],
   "source": [
    "df = pd.read_csv(\"data/investing_news_clean.csv\")"
   ]
  },
  {
   "cell_type": "markdown",
   "metadata": {},
   "source": [
    "## Tweet data"
   ]
  },
  {
   "cell_type": "markdown",
   "metadata": {},
   "source": [
    "### Load the tweet data"
   ]
  },
  {
   "cell_type": "code",
   "execution_count": 130,
   "metadata": {},
   "outputs": [
    {
     "name": "stdout",
     "output_type": "stream",
     "text": [
      "Number of tweets collected\n",
      "corn    : 21318\n",
      "soybeans: 16004\n",
      "wheat   : 16354\n"
     ]
    }
   ],
   "source": [
    "usecols = [\"date\", \"tweet\", \"likes_count\", \"replies_count\", \"retweets_count\"]\n",
    "corn_tweet = pd.read_csv(\"data/tweet/corn_tweet.csv\", usecols=usecols, index_col=\"date\")\n",
    "soybeans_tweet = pd.read_csv(\"data/tweet/soybeans_tweet.csv\", usecols=usecols, index_col=\"date\")\n",
    "wheat_tweet = pd.read_csv(\"data/tweet/wheat_tweet.csv\", usecols=usecols, index_col=\"date\")\n",
    "\n",
    "corn_tweet.index = pd.to_datetime(corn_tweet.index)\n",
    "soybeans_tweet.index = pd.to_datetime(soybeans_tweet.index)\n",
    "wheat_tweet.index = pd.to_datetime(wheat_tweet.index)\n",
    "\n",
    "print(f'Number of tweets collected\\n{\"corn\":<8}: {len(corn_tweet)}\\n{\"soybeans\":<8}: {len(soybeans_tweet)}\\n\\\n",
    "{\"wheat\":<8}: {len(wheat_tweet)}')"
   ]
  },
  {
   "cell_type": "markdown",
   "metadata": {},
   "source": [
    "Extract tweets after 2015-01-01"
   ]
  },
  {
   "cell_type": "code",
   "execution_count": 131,
   "metadata": {},
   "outputs": [
    {
     "name": "stdout",
     "output_type": "stream",
     "text": [
      "Number of tweets collected\n",
      "corn    : 12263\n",
      "soybeans: 10183\n",
      "wheat   : 9752\n"
     ]
    }
   ],
   "source": [
    "FROM = datetime.datetime.strptime(\"2015-01-01\", \"%Y-%M-%d\")\n",
    "corn_tweet = corn_tweet[corn_tweet.index >=  FROM]\n",
    "soybeans_tweet = soybeans_tweet[soybeans_tweet.index >=  FROM]\n",
    "wheat_tweet = wheat_tweet[wheat_tweet.index >=  FROM]\n",
    "\n",
    "print(f'Number of tweets collected\\n{\"corn\":<8}: {len(corn_tweet)}\\n{\"soybeans\":<8}: {len(soybeans_tweet)}\\n\\\n",
    "{\"wheat\":<8}: {len(wheat_tweet)}')"
   ]
  },
  {
   "cell_type": "markdown",
   "metadata": {},
   "source": [
    "### Clean and Tokenize"
   ]
  },
  {
   "cell_type": "code",
   "execution_count": 132,
   "metadata": {},
   "outputs": [],
   "source": [
    "# Running this cell costs some time\n",
    "# Read the previously saved cleaned tweet data directly if there are\n",
    "corn_tweet[\"words\"] = corn_tweet.tweet.apply(clean_tokenize)\n",
    "soybeans_tweet[\"words\"] = soybeans_tweet.tweet.apply(clean_tokenize)\n",
    "wheat_tweet[\"words\"] = wheat_tweet.tweet.apply(clean_tokenize)"
   ]
  },
  {
   "cell_type": "code",
   "execution_count": 133,
   "metadata": {},
   "outputs": [
    {
     "data": {
      "text/html": [
       "<div>\n",
       "<style scoped>\n",
       "    .dataframe tbody tr th:only-of-type {\n",
       "        vertical-align: middle;\n",
       "    }\n",
       "\n",
       "    .dataframe tbody tr th {\n",
       "        vertical-align: top;\n",
       "    }\n",
       "\n",
       "    .dataframe thead th {\n",
       "        text-align: right;\n",
       "    }\n",
       "</style>\n",
       "<table border=\"1\" class=\"dataframe\">\n",
       "  <thead>\n",
       "    <tr style=\"text-align: right;\">\n",
       "      <th></th>\n",
       "      <th>tweet</th>\n",
       "      <th>replies_count</th>\n",
       "      <th>retweets_count</th>\n",
       "      <th>likes_count</th>\n",
       "      <th>words</th>\n",
       "    </tr>\n",
       "    <tr>\n",
       "      <th>date</th>\n",
       "      <th></th>\n",
       "      <th></th>\n",
       "      <th></th>\n",
       "      <th></th>\n",
       "      <th></th>\n",
       "    </tr>\n",
       "  </thead>\n",
       "  <tbody>\n",
       "    <tr>\n",
       "      <th>2020-11-30</th>\n",
       "      <td>Rose on Grain - CME Corn, Wheat and Beans Fini...</td>\n",
       "      <td>0</td>\n",
       "      <td>0</td>\n",
       "      <td>0</td>\n",
       "      <td>rose grain cme corn wheat bean finish modest h...</td>\n",
       "    </tr>\n",
       "    <tr>\n",
       "      <th>2020-11-30</th>\n",
       "      <td>Price increases in November may have ended the...</td>\n",
       "      <td>0</td>\n",
       "      <td>1</td>\n",
       "      <td>5</td>\n",
       "      <td>price increas novemb may end chanc decemb rall...</td>\n",
       "    </tr>\n",
       "    <tr>\n",
       "      <th>2020-11-30</th>\n",
       "      <td>Rose on Grain - CME Corn, Wheat and Beans Fini...</td>\n",
       "      <td>0</td>\n",
       "      <td>0</td>\n",
       "      <td>0</td>\n",
       "      <td>rose grain cme corn wheat bean finish modest h...</td>\n",
       "    </tr>\n",
       "  </tbody>\n",
       "</table>\n",
       "</div>"
      ],
      "text/plain": [
       "                                                        tweet  replies_count  \\\n",
       "date                                                                           \n",
       "2020-11-30  Rose on Grain - CME Corn, Wheat and Beans Fini...              0   \n",
       "2020-11-30  Price increases in November may have ended the...              0   \n",
       "2020-11-30  Rose on Grain - CME Corn, Wheat and Beans Fini...              0   \n",
       "\n",
       "            retweets_count  likes_count  \\\n",
       "date                                      \n",
       "2020-11-30               0            0   \n",
       "2020-11-30               1            5   \n",
       "2020-11-30               0            0   \n",
       "\n",
       "                                                        words  \n",
       "date                                                           \n",
       "2020-11-30  rose grain cme corn wheat bean finish modest h...  \n",
       "2020-11-30  price increas novemb may end chanc decemb rall...  \n",
       "2020-11-30  rose grain cme corn wheat bean finish modest h...  "
      ]
     },
     "execution_count": 133,
     "metadata": {},
     "output_type": "execute_result"
    }
   ],
   "source": [
    "corn_tweet.head(3)"
   ]
  },
  {
   "cell_type": "markdown",
   "metadata": {},
   "source": [
    "### Sentiment analysis"
   ]
  },
  {
   "cell_type": "code",
   "execution_count": 134,
   "metadata": {},
   "outputs": [],
   "source": [
    "analyzer = SentimentIntensityAnalyzer()\n",
    "def sentiment_analysis(text):\n",
    "    vs = analyzer.polarity_scores(text)\n",
    "    return f\"{vs['neg']} {vs['neu']} {vs['pos']}\"\n",
    "\n",
    "def tweet_sentiment(df):\n",
    "    df[\"sentiment\"] = df[\"words\"].apply(sentiment_analysis)\n",
    "    df = pd.merge(df, df.sentiment.str.split(\" \", expand=True).rename(columns={0:'neg', 1:'neu', 2:'pos'}), \n",
    "                  left_index=True, right_index=True)\n",
    "    return df.drop([\"sentiment\"], axis=1)"
   ]
  },
  {
   "cell_type": "code",
   "execution_count": 136,
   "metadata": {},
   "outputs": [],
   "source": [
    "corn_tweet = tweet_sentiment(corn_tweet) #.words.apply(sentiment_analysis)\n",
    "soybeans_tweet = tweet_sentiment(soybeans_tweet) #.words.apply(sentiment_analysis)\n",
    "wheat_tweet = tweet_sentiment(wheat_tweet) #.words.apply(sentiment_analysis)"
   ]
  },
  {
   "cell_type": "code",
   "execution_count": 137,
   "metadata": {},
   "outputs": [
    {
     "data": {
      "text/html": [
       "<div>\n",
       "<style scoped>\n",
       "    .dataframe tbody tr th:only-of-type {\n",
       "        vertical-align: middle;\n",
       "    }\n",
       "\n",
       "    .dataframe tbody tr th {\n",
       "        vertical-align: top;\n",
       "    }\n",
       "\n",
       "    .dataframe thead th {\n",
       "        text-align: right;\n",
       "    }\n",
       "</style>\n",
       "<table border=\"1\" class=\"dataframe\">\n",
       "  <thead>\n",
       "    <tr style=\"text-align: right;\">\n",
       "      <th></th>\n",
       "      <th>tweet</th>\n",
       "      <th>replies_count</th>\n",
       "      <th>retweets_count</th>\n",
       "      <th>likes_count</th>\n",
       "      <th>words</th>\n",
       "      <th>neg</th>\n",
       "      <th>neu</th>\n",
       "      <th>pos</th>\n",
       "    </tr>\n",
       "    <tr>\n",
       "      <th>date</th>\n",
       "      <th></th>\n",
       "      <th></th>\n",
       "      <th></th>\n",
       "      <th></th>\n",
       "      <th></th>\n",
       "      <th></th>\n",
       "      <th></th>\n",
       "      <th></th>\n",
       "    </tr>\n",
       "  </thead>\n",
       "  <tbody>\n",
       "    <tr>\n",
       "      <th>2015-01-02</th>\n",
       "      <td>Strong Exports Help Corn  http://t.co/Awc7xw0u...</td>\n",
       "      <td>0</td>\n",
       "      <td>0</td>\n",
       "      <td>0</td>\n",
       "      <td>strong export help corn commod</td>\n",
       "      <td>0.0</td>\n",
       "      <td>0.333</td>\n",
       "      <td>0.667</td>\n",
       "    </tr>\n",
       "    <tr>\n",
       "      <th>2015-01-02</th>\n",
       "      <td>Strong Exports Help Corn  http://t.co/Awc7xw0u...</td>\n",
       "      <td>0</td>\n",
       "      <td>0</td>\n",
       "      <td>0</td>\n",
       "      <td>strong export help corn commod</td>\n",
       "      <td>0.0</td>\n",
       "      <td>1.0</td>\n",
       "      <td>0.0</td>\n",
       "    </tr>\n",
       "    <tr>\n",
       "      <th>2015-01-02</th>\n",
       "      <td>Strong Exports Help Corn  http://t.co/Awc7xw0u...</td>\n",
       "      <td>0</td>\n",
       "      <td>0</td>\n",
       "      <td>0</td>\n",
       "      <td>strong export help corn commod</td>\n",
       "      <td>0.0</td>\n",
       "      <td>0.595</td>\n",
       "      <td>0.405</td>\n",
       "    </tr>\n",
       "    <tr>\n",
       "      <th>2015-01-02</th>\n",
       "      <td>Strong Exports Help Corn  http://t.co/Awc7xw0u...</td>\n",
       "      <td>0</td>\n",
       "      <td>0</td>\n",
       "      <td>0</td>\n",
       "      <td>strong export help corn commod</td>\n",
       "      <td>0.0</td>\n",
       "      <td>0.579</td>\n",
       "      <td>0.421</td>\n",
       "    </tr>\n",
       "    <tr>\n",
       "      <th>2015-01-02</th>\n",
       "      <td>Commodity. 2014 Return Palladium 11.35% Gold -...</td>\n",
       "      <td>0</td>\n",
       "      <td>0</td>\n",
       "      <td>0</td>\n",
       "      <td>commod return palladium gold wheat corn platin...</td>\n",
       "      <td>0.0</td>\n",
       "      <td>0.333</td>\n",
       "      <td>0.667</td>\n",
       "    </tr>\n",
       "  </tbody>\n",
       "</table>\n",
       "</div>"
      ],
      "text/plain": [
       "                                                        tweet  replies_count  \\\n",
       "date                                                                           \n",
       "2015-01-02  Strong Exports Help Corn  http://t.co/Awc7xw0u...              0   \n",
       "2015-01-02  Strong Exports Help Corn  http://t.co/Awc7xw0u...              0   \n",
       "2015-01-02  Strong Exports Help Corn  http://t.co/Awc7xw0u...              0   \n",
       "2015-01-02  Strong Exports Help Corn  http://t.co/Awc7xw0u...              0   \n",
       "2015-01-02  Commodity. 2014 Return Palladium 11.35% Gold -...              0   \n",
       "\n",
       "            retweets_count  likes_count  \\\n",
       "date                                      \n",
       "2015-01-02               0            0   \n",
       "2015-01-02               0            0   \n",
       "2015-01-02               0            0   \n",
       "2015-01-02               0            0   \n",
       "2015-01-02               0            0   \n",
       "\n",
       "                                                        words  neg    neu  \\\n",
       "date                                                                        \n",
       "2015-01-02                     strong export help corn commod  0.0  0.333   \n",
       "2015-01-02                     strong export help corn commod  0.0    1.0   \n",
       "2015-01-02                     strong export help corn commod  0.0  0.595   \n",
       "2015-01-02                     strong export help corn commod  0.0  0.579   \n",
       "2015-01-02  commod return palladium gold wheat corn platin...  0.0  0.333   \n",
       "\n",
       "              pos  \n",
       "date               \n",
       "2015-01-02  0.667  \n",
       "2015-01-02    0.0  \n",
       "2015-01-02  0.405  \n",
       "2015-01-02  0.421  \n",
       "2015-01-02  0.667  "
      ]
     },
     "execution_count": 137,
     "metadata": {},
     "output_type": "execute_result"
    }
   ],
   "source": [
    "corn_tweet.head()"
   ]
  },
  {
   "cell_type": "code",
   "execution_count": 139,
   "metadata": {},
   "outputs": [],
   "source": [
    "# Save the cleaned and sentiment analyzed data\n",
    "corn_tweet.to_csv(\"data/tweet/corn_clean_tweet.csv\")\n",
    "soybeans_tweet.to_csv(\"data/tweet/soybeans_clean_tweet.csv\")\n",
    "wheat_tweet.to_csv(\"data/tweet/wheat_clean_tweet.csv\")"
   ]
  },
  {
   "cell_type": "code",
   "execution_count": 142,
   "metadata": {},
   "outputs": [],
   "source": [
    "# Directly read the cleaned tweet data\n",
    "# Not recommended, it's better to directly read data into a dictionary\n",
    "# corn_tweet = pd.read_csv(\"data/tweet/corn_clean_tweet.csv\", index_col=\"date\")\n",
    "# soybeans_tweet = pd.read_csv(\"data/tweet/soybeans_clean_tweet.csv\", index_col=\"date\")\n",
    "# wheat_tweet = pd.read_csv(\"data/tweet/wheat_clean_tweet.csv\", index_col=\"date\")"
   ]
  },
  {
   "cell_type": "code",
   "execution_count": 5,
   "metadata": {
    "tags": [
     "load_processed_data"
    ]
   },
   "outputs": [],
   "source": [
    "data_tweet = {\n",
    "    'us corn': pd.read_csv(\"data/tweet/corn_clean_tweet.csv\", index_col=\"date\"),\n",
    "    'us soybeans':pd.read_csv(\"data/tweet/soybeans_clean_tweet.csv\", index_col=\"date\"),\n",
    "    'us wheat': pd.read_csv(\"data/tweet/wheat_clean_tweet.csv\", index_col=\"date\")\n",
    "}"
   ]
  },
  {
   "cell_type": "code",
   "execution_count": 7,
   "metadata": {},
   "outputs": [
    {
     "data": {
      "text/html": [
       "<div>\n",
       "<style scoped>\n",
       "    .dataframe tbody tr th:only-of-type {\n",
       "        vertical-align: middle;\n",
       "    }\n",
       "\n",
       "    .dataframe tbody tr th {\n",
       "        vertical-align: top;\n",
       "    }\n",
       "\n",
       "    .dataframe thead th {\n",
       "        text-align: right;\n",
       "    }\n",
       "</style>\n",
       "<table border=\"1\" class=\"dataframe\">\n",
       "  <thead>\n",
       "    <tr style=\"text-align: right;\">\n",
       "      <th></th>\n",
       "      <th>tweet</th>\n",
       "      <th>replies_count</th>\n",
       "      <th>retweets_count</th>\n",
       "      <th>likes_count</th>\n",
       "      <th>words</th>\n",
       "      <th>neg</th>\n",
       "      <th>neu</th>\n",
       "      <th>pos</th>\n",
       "    </tr>\n",
       "    <tr>\n",
       "      <th>date</th>\n",
       "      <th></th>\n",
       "      <th></th>\n",
       "      <th></th>\n",
       "      <th></th>\n",
       "      <th></th>\n",
       "      <th></th>\n",
       "      <th></th>\n",
       "      <th></th>\n",
       "    </tr>\n",
       "  </thead>\n",
       "  <tbody>\n",
       "    <tr>\n",
       "      <th>2015-01-02</th>\n",
       "      <td>Strong Exports Help Corn  http://t.co/Awc7xw0u...</td>\n",
       "      <td>0</td>\n",
       "      <td>0</td>\n",
       "      <td>0</td>\n",
       "      <td>strong export help corn commod</td>\n",
       "      <td>0.0</td>\n",
       "      <td>0.333</td>\n",
       "      <td>0.667</td>\n",
       "    </tr>\n",
       "    <tr>\n",
       "      <th>2015-01-02</th>\n",
       "      <td>Strong Exports Help Corn  http://t.co/Awc7xw0u...</td>\n",
       "      <td>0</td>\n",
       "      <td>0</td>\n",
       "      <td>0</td>\n",
       "      <td>strong export help corn commod</td>\n",
       "      <td>0.0</td>\n",
       "      <td>1.000</td>\n",
       "      <td>0.000</td>\n",
       "    </tr>\n",
       "    <tr>\n",
       "      <th>2015-01-02</th>\n",
       "      <td>Strong Exports Help Corn  http://t.co/Awc7xw0u...</td>\n",
       "      <td>0</td>\n",
       "      <td>0</td>\n",
       "      <td>0</td>\n",
       "      <td>strong export help corn commod</td>\n",
       "      <td>0.0</td>\n",
       "      <td>0.595</td>\n",
       "      <td>0.405</td>\n",
       "    </tr>\n",
       "  </tbody>\n",
       "</table>\n",
       "</div>"
      ],
      "text/plain": [
       "                                                        tweet  replies_count  \\\n",
       "date                                                                           \n",
       "2015-01-02  Strong Exports Help Corn  http://t.co/Awc7xw0u...              0   \n",
       "2015-01-02  Strong Exports Help Corn  http://t.co/Awc7xw0u...              0   \n",
       "2015-01-02  Strong Exports Help Corn  http://t.co/Awc7xw0u...              0   \n",
       "\n",
       "            retweets_count  likes_count                           words  neg  \\\n",
       "date                                                                           \n",
       "2015-01-02               0            0  strong export help corn commod  0.0   \n",
       "2015-01-02               0            0  strong export help corn commod  0.0   \n",
       "2015-01-02               0            0  strong export help corn commod  0.0   \n",
       "\n",
       "              neu    pos  \n",
       "date                      \n",
       "2015-01-02  0.333  0.667  \n",
       "2015-01-02  1.000  0.000  \n",
       "2015-01-02  0.595  0.405  "
      ]
     },
     "execution_count": 7,
     "metadata": {},
     "output_type": "execute_result"
    }
   ],
   "source": [
    "data_tweet['us corn'].head(3)"
   ]
  },
  {
   "cell_type": "markdown",
   "metadata": {},
   "source": [
    "## Commodity price"
   ]
  },
  {
   "cell_type": "markdown",
   "metadata": {
    "id": "Yhsx5Di0f8EK"
   },
   "source": [
    "### Load the price data\n"
   ]
  },
  {
   "cell_type": "code",
   "execution_count": 239,
   "metadata": {
    "id": "2OFhurxVf7vC"
   },
   "outputs": [
    {
     "data": {
      "text/html": [
       "<div>\n",
       "<style scoped>\n",
       "    .dataframe tbody tr th:only-of-type {\n",
       "        vertical-align: middle;\n",
       "    }\n",
       "\n",
       "    .dataframe tbody tr th {\n",
       "        vertical-align: top;\n",
       "    }\n",
       "\n",
       "    .dataframe thead th {\n",
       "        text-align: right;\n",
       "    }\n",
       "</style>\n",
       "<table border=\"1\" class=\"dataframe\">\n",
       "  <thead>\n",
       "    <tr style=\"text-align: right;\">\n",
       "      <th></th>\n",
       "      <th>us corn_close</th>\n",
       "      <th>us soybeans_close</th>\n",
       "      <th>us wheat_close</th>\n",
       "      <th>oats_close</th>\n",
       "      <th>rough rice_close</th>\n",
       "    </tr>\n",
       "    <tr>\n",
       "      <th>Date</th>\n",
       "      <th></th>\n",
       "      <th></th>\n",
       "      <th></th>\n",
       "      <th></th>\n",
       "      <th></th>\n",
       "    </tr>\n",
       "  </thead>\n",
       "  <tbody>\n",
       "    <tr>\n",
       "      <th>2010-11-01</th>\n",
       "      <td>577.25</td>\n",
       "      <td>1239.38</td>\n",
       "      <td>706.88</td>\n",
       "      <td>363.00</td>\n",
       "      <td>13.940</td>\n",
       "    </tr>\n",
       "    <tr>\n",
       "      <th>2010-11-02</th>\n",
       "      <td>575.75</td>\n",
       "      <td>1234.25</td>\n",
       "      <td>695.88</td>\n",
       "      <td>362.00</td>\n",
       "      <td>14.010</td>\n",
       "    </tr>\n",
       "    <tr>\n",
       "      <th>2010-11-03</th>\n",
       "      <td>581.00</td>\n",
       "      <td>1239.13</td>\n",
       "      <td>695.13</td>\n",
       "      <td>361.50</td>\n",
       "      <td>14.245</td>\n",
       "    </tr>\n",
       "    <tr>\n",
       "      <th>2010-11-04</th>\n",
       "      <td>590.00</td>\n",
       "      <td>1279.38</td>\n",
       "      <td>720.63</td>\n",
       "      <td>377.50</td>\n",
       "      <td>14.565</td>\n",
       "    </tr>\n",
       "    <tr>\n",
       "      <th>2010-11-05</th>\n",
       "      <td>587.75</td>\n",
       "      <td>1282.88</td>\n",
       "      <td>729.13</td>\n",
       "      <td>375.25</td>\n",
       "      <td>14.700</td>\n",
       "    </tr>\n",
       "  </tbody>\n",
       "</table>\n",
       "</div>"
      ],
      "text/plain": [
       "            us corn_close  us soybeans_close  us wheat_close  oats_close  \\\n",
       "Date                                                                       \n",
       "2010-11-01         577.25            1239.38          706.88      363.00   \n",
       "2010-11-02         575.75            1234.25          695.88      362.00   \n",
       "2010-11-03         581.00            1239.13          695.13      361.50   \n",
       "2010-11-04         590.00            1279.38          720.63      377.50   \n",
       "2010-11-05         587.75            1282.88          729.13      375.25   \n",
       "\n",
       "            rough rice_close  \n",
       "Date                          \n",
       "2010-11-01            13.940  \n",
       "2010-11-02            14.010  \n",
       "2010-11-03            14.245  \n",
       "2010-11-04            14.565  \n",
       "2010-11-05            14.700  "
      ]
     },
     "execution_count": 239,
     "metadata": {},
     "output_type": "execute_result"
    }
   ],
   "source": [
    "COMMODITY_LIST = ['us corn', 'us soybeans', 'us wheat', 'oats', 'rough rice']\n",
    "\n",
    "df_price = pd.read_csv(f\"data/{COMMODITY_LIST[0]}_historical.csv\", usecols=[\"Date\", \"Close\"], \n",
    "                       index_col=\"Date\")\n",
    "df_price[f\"{COMMODITY_LIST[0]}_close\"] = df_price.Close\n",
    "df_price = df_price.drop([\"Close\"], axis=1)\n",
    "\n",
    "for commodity in COMMODITY_LIST[1:]:\n",
    "    temp = pd.read_csv(f\"data/{commodity}_historical.csv\", usecols=[\"Date\", \"Close\"], \n",
    "                       index_col=\"Date\")\n",
    "    temp[f\"{commodity}_close\"] = temp.Close\n",
    "    temp = temp.drop([\"Close\"], axis=1)\n",
    "    df_price = pd.merge(df_price, temp, on=['Date'], how='left')\n",
    "\n",
    "# df_price[\"date\"] = pd.to_datetime(df_price.index) #df_price.index\n",
    "# df_price.date = df_price.date.apply(lambda x: datetime.datetime.strptime(x, \"%Y-%M-%d\").date())\n",
    "df_price.head()"
   ]
  },
  {
   "cell_type": "code",
   "execution_count": 241,
   "metadata": {},
   "outputs": [
    {
     "data": {
      "text/plain": [
       "(669, 5)"
      ]
     },
     "execution_count": 241,
     "metadata": {},
     "output_type": "execute_result"
    }
   ],
   "source": [
    "df_price.loc[\"2018-06-01\":\"2020-11-01\",:].shape"
   ]
  },
  {
   "cell_type": "code",
   "execution_count": 158,
   "metadata": {},
   "outputs": [],
   "source": [
    "df_price.to_csv(\"data/df_price.csv\")"
   ]
  },
  {
   "cell_type": "code",
   "execution_count": 159,
   "metadata": {
    "tags": [
     "load_processed_data"
    ]
   },
   "outputs": [
    {
     "data": {
      "text/html": [
       "<div>\n",
       "<style scoped>\n",
       "    .dataframe tbody tr th:only-of-type {\n",
       "        vertical-align: middle;\n",
       "    }\n",
       "\n",
       "    .dataframe tbody tr th {\n",
       "        vertical-align: top;\n",
       "    }\n",
       "\n",
       "    .dataframe thead th {\n",
       "        text-align: right;\n",
       "    }\n",
       "</style>\n",
       "<table border=\"1\" class=\"dataframe\">\n",
       "  <thead>\n",
       "    <tr style=\"text-align: right;\">\n",
       "      <th></th>\n",
       "      <th>us corn_close</th>\n",
       "      <th>us soybeans_close</th>\n",
       "      <th>us wheat_close</th>\n",
       "      <th>oats_close</th>\n",
       "      <th>rough rice_close</th>\n",
       "    </tr>\n",
       "    <tr>\n",
       "      <th>Date</th>\n",
       "      <th></th>\n",
       "      <th></th>\n",
       "      <th></th>\n",
       "      <th></th>\n",
       "      <th></th>\n",
       "    </tr>\n",
       "  </thead>\n",
       "  <tbody>\n",
       "    <tr>\n",
       "      <th>2010-11-01</th>\n",
       "      <td>577.25</td>\n",
       "      <td>1239.38</td>\n",
       "      <td>706.88</td>\n",
       "      <td>363.00</td>\n",
       "      <td>13.940</td>\n",
       "    </tr>\n",
       "    <tr>\n",
       "      <th>2010-11-02</th>\n",
       "      <td>575.75</td>\n",
       "      <td>1234.25</td>\n",
       "      <td>695.88</td>\n",
       "      <td>362.00</td>\n",
       "      <td>14.010</td>\n",
       "    </tr>\n",
       "    <tr>\n",
       "      <th>2010-11-03</th>\n",
       "      <td>581.00</td>\n",
       "      <td>1239.13</td>\n",
       "      <td>695.13</td>\n",
       "      <td>361.50</td>\n",
       "      <td>14.245</td>\n",
       "    </tr>\n",
       "    <tr>\n",
       "      <th>2010-11-04</th>\n",
       "      <td>590.00</td>\n",
       "      <td>1279.38</td>\n",
       "      <td>720.63</td>\n",
       "      <td>377.50</td>\n",
       "      <td>14.565</td>\n",
       "    </tr>\n",
       "    <tr>\n",
       "      <th>2010-11-05</th>\n",
       "      <td>587.75</td>\n",
       "      <td>1282.88</td>\n",
       "      <td>729.13</td>\n",
       "      <td>375.25</td>\n",
       "      <td>14.700</td>\n",
       "    </tr>\n",
       "  </tbody>\n",
       "</table>\n",
       "</div>"
      ],
      "text/plain": [
       "            us corn_close  us soybeans_close  us wheat_close  oats_close  \\\n",
       "Date                                                                       \n",
       "2010-11-01         577.25            1239.38          706.88      363.00   \n",
       "2010-11-02         575.75            1234.25          695.88      362.00   \n",
       "2010-11-03         581.00            1239.13          695.13      361.50   \n",
       "2010-11-04         590.00            1279.38          720.63      377.50   \n",
       "2010-11-05         587.75            1282.88          729.13      375.25   \n",
       "\n",
       "            rough rice_close  \n",
       "Date                          \n",
       "2010-11-01            13.940  \n",
       "2010-11-02            14.010  \n",
       "2010-11-03            14.245  \n",
       "2010-11-04            14.565  \n",
       "2010-11-05            14.700  "
      ]
     },
     "execution_count": 159,
     "metadata": {},
     "output_type": "execute_result"
    }
   ],
   "source": [
    "df_price = pd.read_csv(\"data/df_price.csv\", index_col=\"Date\")\n",
    "df_price.head()"
   ]
  },
  {
   "cell_type": "markdown",
   "metadata": {},
   "source": [
    "## Combine the Price and Text data"
   ]
  },
  {
   "cell_type": "code",
   "execution_count": 437,
   "metadata": {},
   "outputs": [],
   "source": [
    "# Not recommend, because the lag cannot be applied\n",
    "# data = pd.merge(df[[\"type\", \"date\", \"words\"]], df_price, on=\"date\", how=\"inner\")\n",
    "# # Save the combined data\n",
    "# data.to_csv(\"./price_text.csv\", index=False)\n",
    "# data.head()"
   ]
  },
  {
   "cell_type": "markdown",
   "metadata": {},
   "source": [
    "### News data selector"
   ]
  },
  {
   "cell_type": "code",
   "execution_count": 238,
   "metadata": {},
   "outputs": [
    {
     "name": "stdout",
     "output_type": "stream",
     "text": [
      "153 rows of data are selected.\n"
     ]
    },
    {
     "name": "stderr",
     "output_type": "stream",
     "text": [
      "C:\\Users\\Claude\\anaconda3\\lib\\site-packages\\pandas\\core\\series.py:679: RuntimeWarning: invalid value encountered in sign\n",
      "  result = getattr(ufunc, method)(*inputs, **kwargs)\n"
     ]
    },
    {
     "data": {
      "text/html": [
       "<div>\n",
       "<style scoped>\n",
       "    .dataframe tbody tr th:only-of-type {\n",
       "        vertical-align: middle;\n",
       "    }\n",
       "\n",
       "    .dataframe tbody tr th {\n",
       "        vertical-align: top;\n",
       "    }\n",
       "\n",
       "    .dataframe thead th {\n",
       "        text-align: right;\n",
       "    }\n",
       "</style>\n",
       "<table border=\"1\" class=\"dataframe\">\n",
       "  <thead>\n",
       "    <tr style=\"text-align: right;\">\n",
       "      <th></th>\n",
       "      <th>date</th>\n",
       "      <th>type</th>\n",
       "      <th>words</th>\n",
       "      <th>us wheat_close</th>\n",
       "      <th>us wheat_close_trend</th>\n",
       "    </tr>\n",
       "  </thead>\n",
       "  <tbody>\n",
       "    <tr>\n",
       "      <th>0</th>\n",
       "      <td>2015-05-31</td>\n",
       "      <td>us wheat</td>\n",
       "      <td>wheat futur end week wheat futur fell sharpli ...</td>\n",
       "      <td>512.63</td>\n",
       "      <td>1.0</td>\n",
       "    </tr>\n",
       "    <tr>\n",
       "      <th>1</th>\n",
       "      <td>2015-03-16</td>\n",
       "      <td>us wheat</td>\n",
       "      <td>© reuter ﻿ soybean slump week low soybean futu...</td>\n",
       "      <td>511.13</td>\n",
       "      <td>1.0</td>\n",
       "    </tr>\n",
       "    <tr>\n",
       "      <th>2</th>\n",
       "      <td>2015-06-21</td>\n",
       "      <td>us wheat</td>\n",
       "      <td>soybean futur dip friday end close week high s...</td>\n",
       "      <td>522.63</td>\n",
       "      <td>1.0</td>\n",
       "    </tr>\n",
       "    <tr>\n",
       "      <th>3</th>\n",
       "      <td>2015-05-26</td>\n",
       "      <td>us wheat</td>\n",
       "      <td>soybean trade near month low soybean futur inc...</td>\n",
       "      <td>487.38</td>\n",
       "      <td>-1.0</td>\n",
       "    </tr>\n",
       "    <tr>\n",
       "      <th>4</th>\n",
       "      <td>2015-03-08</td>\n",
       "      <td>us wheat</td>\n",
       "      <td>us wheat futur end week wheat futur fell contr...</td>\n",
       "      <td>493.88</td>\n",
       "      <td>1.0</td>\n",
       "    </tr>\n",
       "  </tbody>\n",
       "</table>\n",
       "</div>"
      ],
      "text/plain": [
       "        date      type                                              words  \\\n",
       "0 2015-05-31  us wheat  wheat futur end week wheat futur fell sharpli ...   \n",
       "1 2015-03-16  us wheat  © reuter ﻿ soybean slump week low soybean futu...   \n",
       "2 2015-06-21  us wheat  soybean futur dip friday end close week high s...   \n",
       "3 2015-05-26  us wheat  soybean trade near month low soybean futur inc...   \n",
       "4 2015-03-08  us wheat  us wheat futur end week wheat futur fell contr...   \n",
       "\n",
       "   us wheat_close  us wheat_close_trend  \n",
       "0          512.63                   1.0  \n",
       "1          511.13                   1.0  \n",
       "2          522.63                   1.0  \n",
       "3          487.38                  -1.0  \n",
       "4          493.88                   1.0  "
      ]
     },
     "execution_count": 238,
     "metadata": {},
     "output_type": "execute_result"
    }
   ],
   "source": [
    "def data_selector_news(grain, lag):\n",
    "    \"\"\"\n",
    "    For study the delay predicting affect of news, for the grain commodity price.\n",
    "    Parameters:\n",
    "        grain : type of wanted grain, \"all\" for all grains, grain should be in COMMODITY_LIST\n",
    "        lag   : delay of wanted price data \n",
    "    Return:\n",
    "        Dataframe includes date of news, news content, price data after lag days, price data, trend of price data.\n",
    "    \"\"\"\n",
    "    grain = grain.lower()\n",
    "    \n",
    "    if grain == \"all\":\n",
    "        df_price_lag = df_price.copy()\n",
    "        df_news = df.copy()\n",
    "    else:\n",
    "        df_price_lag = df_price.copy()[[f\"{grain}_close\"]]\n",
    "        df_price_lag[f\"{grain}_close_trend\"] = (df_price_lag[[f\"{grain}_close\"]].diff()\n",
    "                                                .apply(lambda x: np.sign(x)))\n",
    "        df_news = df.copy()\n",
    "        df_news = df_news[df_news.type == grain.lower()]\n",
    "        \n",
    "    df_price_lag[f\"date_lag_{lag}\"] = (pd.to_datetime(df_price_lag.index).to_series()\n",
    "                                       .apply(lambda x: x - datetime.timedelta(days = lag)))\n",
    "    \n",
    "    data = pd.merge(df_news[[\"date\",\"type\", \"words\"]], df_price_lag, left_on=\"date\", right_on=f\"date_lag_{lag}\", \n",
    "                    how=\"inner\", suffixes=[\"_text\", \"_price\"])\n",
    "    data = data.drop(f\"date_lag_{lag}\", axis=1)\n",
    "    print(f\"{len(data)} rows of data are selected.\")\n",
    "    return data\n",
    "\n",
    "data_selector_news(\"us wheat\", 2).head()"
   ]
  },
  {
   "cell_type": "markdown",
   "metadata": {},
   "source": [
    "### Tweet data selector\n",
    "\n",
    "**Input**\n",
    "- From  : Start date of data\n",
    "- To    : End date of data\n",
    "- Grain : Type of grain commodity\n",
    "\n",
    "**Outpu**\n",
    "- Date\n",
    "- Commodity close price\n",
    "- Tweet sentiment analysis result\n"
   ]
  },
  {
   "cell_type": "code",
   "execution_count": 237,
   "metadata": {},
   "outputs": [
    {
     "data": {
      "text/html": [
       "<div>\n",
       "<style scoped>\n",
       "    .dataframe tbody tr th:only-of-type {\n",
       "        vertical-align: middle;\n",
       "    }\n",
       "\n",
       "    .dataframe tbody tr th {\n",
       "        vertical-align: top;\n",
       "    }\n",
       "\n",
       "    .dataframe thead th {\n",
       "        text-align: right;\n",
       "    }\n",
       "</style>\n",
       "<table border=\"1\" class=\"dataframe\">\n",
       "  <thead>\n",
       "    <tr style=\"text-align: right;\">\n",
       "      <th></th>\n",
       "      <th>replies_count</th>\n",
       "      <th>retweets_count</th>\n",
       "      <th>likes_count</th>\n",
       "      <th>words</th>\n",
       "      <th>neg</th>\n",
       "      <th>neu</th>\n",
       "      <th>pos</th>\n",
       "      <th>us soybeans_close</th>\n",
       "    </tr>\n",
       "  </thead>\n",
       "  <tbody>\n",
       "    <tr>\n",
       "      <th>2020-01-01</th>\n",
       "      <td>0</td>\n",
       "      <td>0</td>\n",
       "      <td>2</td>\n",
       "      <td>drew yall peeptoemama crop insur yes low commo...</td>\n",
       "      <td>0.066</td>\n",
       "      <td>0.849</td>\n",
       "      <td>0.085</td>\n",
       "      <td>943.50</td>\n",
       "    </tr>\n",
       "    <tr>\n",
       "      <th>2020-01-01</th>\n",
       "      <td>0</td>\n",
       "      <td>0</td>\n",
       "      <td>2</td>\n",
       "      <td>drew yall peeptoemama crop insur yes low commo...</td>\n",
       "      <td>0.000</td>\n",
       "      <td>0.863</td>\n",
       "      <td>0.137</td>\n",
       "      <td>943.50</td>\n",
       "    </tr>\n",
       "    <tr>\n",
       "      <th>2020-01-01</th>\n",
       "      <td>0</td>\n",
       "      <td>1</td>\n",
       "      <td>1</td>\n",
       "      <td>establish farm beef cattl cash grain oilse cor...</td>\n",
       "      <td>0.066</td>\n",
       "      <td>0.849</td>\n",
       "      <td>0.085</td>\n",
       "      <td>943.50</td>\n",
       "    </tr>\n",
       "    <tr>\n",
       "      <th>2020-01-01</th>\n",
       "      <td>0</td>\n",
       "      <td>1</td>\n",
       "      <td>1</td>\n",
       "      <td>establish farm beef cattl cash grain oilse cor...</td>\n",
       "      <td>0.000</td>\n",
       "      <td>0.863</td>\n",
       "      <td>0.137</td>\n",
       "      <td>943.50</td>\n",
       "    </tr>\n",
       "    <tr>\n",
       "      <th>2020-01-02</th>\n",
       "      <td>0</td>\n",
       "      <td>0</td>\n",
       "      <td>4</td>\n",
       "      <td>specialti soybean varieti one way bring extra ...</td>\n",
       "      <td>0.000</td>\n",
       "      <td>0.915</td>\n",
       "      <td>0.085</td>\n",
       "      <td>943.25</td>\n",
       "    </tr>\n",
       "    <tr>\n",
       "      <th>...</th>\n",
       "      <td>...</td>\n",
       "      <td>...</td>\n",
       "      <td>...</td>\n",
       "      <td>...</td>\n",
       "      <td>...</td>\n",
       "      <td>...</td>\n",
       "      <td>...</td>\n",
       "      <td>...</td>\n",
       "    </tr>\n",
       "    <tr>\n",
       "      <th>2020-05-01</th>\n",
       "      <td>0</td>\n",
       "      <td>0</td>\n",
       "      <td>0</td>\n",
       "      <td>ever incent china purchas soybean craig pietig...</td>\n",
       "      <td>0.000</td>\n",
       "      <td>1.000</td>\n",
       "      <td>0.000</td>\n",
       "      <td>848.75</td>\n",
       "    </tr>\n",
       "    <tr>\n",
       "      <th>2020-05-01</th>\n",
       "      <td>0</td>\n",
       "      <td>1</td>\n",
       "      <td>0</td>\n",
       "      <td>cdt morn commod snapshot commod agricultur whe...</td>\n",
       "      <td>0.336</td>\n",
       "      <td>0.535</td>\n",
       "      <td>0.129</td>\n",
       "      <td>848.75</td>\n",
       "    </tr>\n",
       "    <tr>\n",
       "      <th>2020-05-01</th>\n",
       "      <td>0</td>\n",
       "      <td>1</td>\n",
       "      <td>0</td>\n",
       "      <td>cdt morn commod snapshot commod agricultur whe...</td>\n",
       "      <td>0.000</td>\n",
       "      <td>0.795</td>\n",
       "      <td>0.205</td>\n",
       "      <td>848.75</td>\n",
       "    </tr>\n",
       "    <tr>\n",
       "      <th>2020-05-01</th>\n",
       "      <td>0</td>\n",
       "      <td>1</td>\n",
       "      <td>0</td>\n",
       "      <td>cdt morn commod snapshot commod agricultur whe...</td>\n",
       "      <td>0.161</td>\n",
       "      <td>0.839</td>\n",
       "      <td>0.000</td>\n",
       "      <td>848.75</td>\n",
       "    </tr>\n",
       "    <tr>\n",
       "      <th>2020-05-01</th>\n",
       "      <td>0</td>\n",
       "      <td>1</td>\n",
       "      <td>0</td>\n",
       "      <td>cdt morn commod snapshot commod agricultur whe...</td>\n",
       "      <td>0.000</td>\n",
       "      <td>1.000</td>\n",
       "      <td>0.000</td>\n",
       "      <td>848.75</td>\n",
       "    </tr>\n",
       "  </tbody>\n",
       "</table>\n",
       "<p>3527 rows × 8 columns</p>\n",
       "</div>"
      ],
      "text/plain": [
       "            replies_count  retweets_count  likes_count  \\\n",
       "2020-01-01              0               0            2   \n",
       "2020-01-01              0               0            2   \n",
       "2020-01-01              0               1            1   \n",
       "2020-01-01              0               1            1   \n",
       "2020-01-02              0               0            4   \n",
       "...                   ...             ...          ...   \n",
       "2020-05-01              0               0            0   \n",
       "2020-05-01              0               1            0   \n",
       "2020-05-01              0               1            0   \n",
       "2020-05-01              0               1            0   \n",
       "2020-05-01              0               1            0   \n",
       "\n",
       "                                                        words    neg    neu  \\\n",
       "2020-01-01  drew yall peeptoemama crop insur yes low commo...  0.066  0.849   \n",
       "2020-01-01  drew yall peeptoemama crop insur yes low commo...  0.000  0.863   \n",
       "2020-01-01  establish farm beef cattl cash grain oilse cor...  0.066  0.849   \n",
       "2020-01-01  establish farm beef cattl cash grain oilse cor...  0.000  0.863   \n",
       "2020-01-02  specialti soybean varieti one way bring extra ...  0.000  0.915   \n",
       "...                                                       ...    ...    ...   \n",
       "2020-05-01  ever incent china purchas soybean craig pietig...  0.000  1.000   \n",
       "2020-05-01  cdt morn commod snapshot commod agricultur whe...  0.336  0.535   \n",
       "2020-05-01  cdt morn commod snapshot commod agricultur whe...  0.000  0.795   \n",
       "2020-05-01  cdt morn commod snapshot commod agricultur whe...  0.161  0.839   \n",
       "2020-05-01  cdt morn commod snapshot commod agricultur whe...  0.000  1.000   \n",
       "\n",
       "              pos  us soybeans_close  \n",
       "2020-01-01  0.085             943.50  \n",
       "2020-01-01  0.137             943.50  \n",
       "2020-01-01  0.085             943.50  \n",
       "2020-01-01  0.137             943.50  \n",
       "2020-01-02  0.085             943.25  \n",
       "...           ...                ...  \n",
       "2020-05-01  0.000             848.75  \n",
       "2020-05-01  0.129             848.75  \n",
       "2020-05-01  0.205             848.75  \n",
       "2020-05-01  0.000             848.75  \n",
       "2020-05-01  0.000             848.75  \n",
       "\n",
       "[3527 rows x 8 columns]"
      ]
     },
     "execution_count": 237,
     "metadata": {},
     "output_type": "execute_result"
    }
   ],
   "source": [
    "def data_selector_tweet(grain, start, end):\n",
    "    grain = grain.lower()\n",
    "    assert grain in data_tweet.keys(), f\"{grain} is not in our database.\"\n",
    "    \n",
    "    return pd.merge(data_tweet[grain].drop([\"tweet\"], axis=1), df_price.loc[start:end, [f\"{grain}_close\"]], \n",
    "                    left_index=True, right_index=True)\n",
    "\n",
    "data_selector_tweet('us soybeans', \"2020-01-01\", \"2020-05-01\")"
   ]
  },
  {
   "cell_type": "markdown",
   "metadata": {
    "id": "crKdRXjTYwGp"
   },
   "source": [
    "# Visualization"
   ]
  },
  {
   "cell_type": "markdown",
   "metadata": {},
   "source": [
    "Distribution of collected news over time"
   ]
  },
  {
   "cell_type": "code",
   "execution_count": 289,
   "metadata": {},
   "outputs": [
    {
     "data": {
      "text/plain": [
       "Text(0.5, 0, 'Date')"
      ]
     },
     "execution_count": 289,
     "metadata": {},
     "output_type": "execute_result"
    },
    {
     "data": {
      "image/png": "[encoded data removed]",
      "text/plain": [
       "<Figure size 720x360 with 1 Axes>"
      ]
     },
     "metadata": {
      "needs_background": "light"
     },
     "output_type": "display_data"
    }
   ],
   "source": [
    "plt.figure(figsize=(10,5))\n",
    "for i, key in enumerate(['us corn', 'us soybeans', 'us wheat']):\n",
    "    x = df_grouped.get_group(key).datetime.apply(lambda x: x.date())\n",
    "    plt.plot(x, np.repeat(i, len(x)), '|')\n",
    "    plt.xlim((datetime.datetime(2018, 5, 1).date(), datetime.datetime(2020, 12, 1).date()))\n",
    "    plt.yticks(list(range(0,3)), ['us corn', 'us soybeans', 'us wheat'])\n",
    "plt.title(\"Distribution of news over time\")\n",
    "plt.xlabel(\"Date\")"
   ]
  },
  {
   "cell_type": "code",
   "execution_count": 288,
   "metadata": {},
   "outputs": [
    {
     "data": {
      "image/png": "[encoded data removed]",
      "text/plain": [
       "<Figure size 864x432 with 1 Axes>"
      ]
     },
     "metadata": {
      "needs_background": "light"
     },
     "output_type": "display_data"
    }
   ],
   "source": [
    "plt.figure(figsize=(12,6))\n",
    "plt.plot(pd.to_datetime(corn_tweet.index), np.repeat(1, len(corn_tweet)), '|')\n",
    "plt.plot(pd.to_datetime(soybeans_tweet.index), np.repeat(2, len(soybeans_tweet)), '|')\n",
    "plt.plot(pd.to_datetime(wheat_tweet.index), np.repeat(3, len(wheat_tweet)), '|')\n",
    "plt.xlim((datetime.datetime(2018, 5, 1).date(), datetime.datetime(2020, 12, 1).date()))\n",
    "plt.yticks(list(range(1,4)), [\"corn\", \"soybeans\", \"wheat\"])\n",
    "plt.title(\"Distribution of collected tweets over time\")\n",
    "plt.xlabel(\"Date\")\n",
    "plt.gcf().autofmt_xdate()"
   ]
  },
  {
   "cell_type": "markdown",
   "metadata": {},
   "source": [
    "Trend of grains commodities' price"
   ]
  },
  {
   "cell_type": "code",
   "execution_count": 299,
   "metadata": {},
   "outputs": [
    {
     "data": {
      "text/plain": [
       "Text(0.5, 1.0, \"Trend of grain commodities' price\")"
      ]
     },
     "execution_count": 299,
     "metadata": {},
     "output_type": "execute_result"
    },
    {
     "data": {
      "image/png": "[encoded data removed]",
      "text/plain": [
       "<Figure size 720x360 with 1 Axes>"
      ]
     },
     "metadata": {
      "needs_background": "light"
     },
     "output_type": "display_data"
    }
   ],
   "source": [
    "df_price.plot(figsize=(10,5))#.drop([\"date\"], axis=1).plot(figsize=(10,5))\n",
    "# plt.xlim((datetime.datetime(2018, 5, 1), datetime.datetime(2020, 12, 1)))\n",
    "plt.gcf().autofmt_xdate()\n",
    "plt.title(\"Trend of grain commodities' price\")"
   ]
  }
 ],
 "metadata": {
  "colab": {
   "collapsed_sections": [],
   "name": "Processor.ipynb",
   "provenance": [],
   "toc_visible": true
  },
  "kernelspec": {
   "display_name": "Python 3",
   "language": "python",
   "name": "python3"
  },
  "language_info": {
   "codemirror_mode": {
    "name": "ipython",
    "version": 3
   },
   "file_extension": ".py",
   "mimetype": "text/x-python",
   "name": "python",
   "nbconvert_exporter": "python",
   "pygments_lexer": "ipython3",
   "version": "3.8.3"
  },
  "toc-autonumbering": true,
  "toc-showcode": false,
  "toc-showmarkdowntxt": false,
  "toc-showtags": false
 },
 "nbformat": 4,
 "nbformat_minor": 4
}
